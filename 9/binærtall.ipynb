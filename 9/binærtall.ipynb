{
 "cells": [
  {
   "cell_type": "code",
   "execution_count": 114,
   "metadata": {},
   "outputs": [],
   "source": [
    "from numpy.random import randint, rand"
   ]
  },
  {
   "cell_type": "code",
   "execution_count": 115,
   "metadata": {},
   "outputs": [],
   "source": [
    "def fitness(individual, target):\n",
    "    return -abs(target - int(\"\".join(str(x) for x in individual), 2))\n",
    "\n",
    "def measure_fitness(pop, target):\n",
    "    scores = []\n",
    "    for induvidual in pop:\n",
    "        scores.append(fitness(induvidual, target))\n",
    "    return scores\n",
    "\n",
    "def selection(pop, scores, k=4):\n",
    "    k_best = []\n",
    "    for _ in range(k):\n",
    "        best_induvidual = 0\n",
    "        for i in range(len(pop)):\n",
    "            if (scores[i] > scores[best_induvidual]):\n",
    "                best_induvidual = i\n",
    "        k_best.append(pop[best_induvidual])\n",
    "        scores[best_induvidual] = -1000\n",
    "    return k_best\n",
    "\n",
    "def crossover(p1, p2, r_cross):\n",
    "\tc1, c2 = p1.copy(), p2.copy()\n",
    "\tif rand() < r_cross:\n",
    "\t\tpt = randint(1, len(p1)-2)\n",
    "\t\tc1 = p1[:pt] + p2[pt:]\n",
    "\t\tc2 = p2[:pt] + p1[pt:]\n",
    "\treturn c1, c2\n",
    "\n",
    "def combinations(parents, n_pop, r_cross, r_mut):\n",
    "    children = []\n",
    "    for i in range(0, n_pop, 2):\n",
    "        p1, p2 = parents[i], parents[i+1]\n",
    "        for c in crossover(p1, p2, r_cross):\n",
    "            mutation(c, r_mut)\n",
    "            children.append(c)\n",
    "    return children\n",
    "\n",
    "def mutation(bitstring, r_mut):\n",
    "    for i in range(len(bitstring)):\n",
    "        if rand() < r_mut:\n",
    "            bitstring[i] = 1 - bitstring[i]"
   ]
  },
  {
   "cell_type": "markdown",
   "metadata": {},
   "source": [
    "# Oppgave 1.1"
   ]
  },
  {
   "cell_type": "code",
   "execution_count": 116,
   "metadata": {},
   "outputs": [
    {
     "name": "stdout",
     "output_type": "stream",
     "text": [
      "Target = 235\n",
      "Gen 00: avg = -140.9, best = -00039\n",
      "Gen 01: avg = -071.0, best = -00014\n",
      "Gen 02: avg = -034.2, best = -00003\n",
      "Gen 03: avg = -057.7, best = -00003\n",
      "Gen 04: avg = -037.5, best = -00004\n",
      "Gen 05: avg = -032.9, best = -00001\n",
      "Gen 06: avg = -052.0, best = -00001\n",
      "Gen 07: avg = -035.3, best = -00001\n",
      "Gen 08: avg = -075.9, best = -00001\n",
      "Gen 09: avg = -060.3, best = -00001\n",
      "Gen 10: avg = -037.5, best = -00002\n",
      "Gen 11: avg = -039.9, best = -00002\n",
      "Gen 12: avg = -082.8, best = 000000\n",
      "Value found: 11101011 == 235\n"
     ]
    }
   ],
   "source": [
    "n_bits = 8\n",
    "n_pop = 10\n",
    "pop = []\n",
    "pop = [randint(0, 2, n_bits).tolist() for _ in range(n_pop)]\n",
    "target = randint(0, 2**n_bits)\n",
    "r_cross = .95\n",
    "r_mut = 1.0 / float(n_bits)\n",
    "print(f\"Target = {target}\")\n",
    "\n",
    "# max iterations just in case\n",
    "gen = 0\n",
    "while fitness(k_best[0], target) != 0:\n",
    "    scores = measure_fitness(pop, target)\n",
    "    print(f\"Gen {gen:02}:\", end=\" \")\n",
    "    print(f\"avg = {sum(scores)/len(pop):06}\", end=\", \")\n",
    "    \n",
    "    k_best = selection(pop, scores)\n",
    "    print(f\"best = {fitness(k_best[0], target):06}\")\n",
    "\n",
    "    if fitness(k_best[0], target) == 0:\n",
    "        print(f\"Value found: {''.join(map(str, k_best[0]))} == {target}\")\n",
    "        break\n",
    "\n",
    "    parents = k_best\n",
    "    for i in range(len(k_best)):\n",
    "        parents.append(k_best[i])\n",
    "    for i in range(len(k_best)):\n",
    "        parents.append(k_best[i])\n",
    "\n",
    "    pop = combinations(parents, n_pop, r_cross, r_mut)\n",
    "    gen += 1\n"
   ]
  },
  {
   "cell_type": "markdown",
   "metadata": {},
   "source": [
    "# Oppgave 1.2"
   ]
  },
  {
   "cell_type": "code",
   "execution_count": 126,
   "metadata": {},
   "outputs": [],
   "source": [
    "import time, math\n",
    "import matplotlib.pyplot as plt"
   ]
  },
  {
   "cell_type": "code",
   "execution_count": 133,
   "metadata": {},
   "outputs": [
    {
     "name": "stdout",
     "output_type": "stream",
     "text": [
      "Testing with n_bits = 8...\n",
      "Testing with n_bits = 9...\n",
      "Testing with n_bits = 10...\n",
      "Testing with n_bits = 11...\n",
      "Testing with n_bits = 12...\n",
      "Testing with n_bits = 13...\n",
      "Testing with n_bits = 14...\n",
      "Testing with n_bits = 15...\n",
      "Testing with n_bits = 16...\n",
      "Testing with n_bits = 17...\n",
      "Testing with n_bits = 18...\n",
      "Testing with n_bits = 19...\n",
      "Testing with n_bits = 20...\n",
      "Testing with n_bits = 21...\n"
     ]
    },
    {
     "data": {
      "image/png": "[encoded data removed]",
      "text/plain": [
       "<Figure size 640x480 with 1 Axes>"
      ]
     },
     "metadata": {},
     "output_type": "display_data"
    }
   ],
   "source": [
    "avgs = []\n",
    "n_runs = 3\n",
    "max_bits = 21\n",
    "min_bits = 8\n",
    "for n_bits in range(min_bits, max_bits+1):\n",
    "    r_mut = 1.0 / float(n_bits)\n",
    "    run_times = []\n",
    "    print(f\"Testing with n_bits = {n_bits}...\")\n",
    "    for run in range(n_runs):\n",
    "        finished = True\n",
    "        pop = [randint(0, 2, n_bits).tolist() for _ in range(n_pop)]\n",
    "        target = randint(0, 2**n_bits)\n",
    "        start = time.time()\n",
    "        while fitness(k_best[0], target) != 0:\n",
    "            scores = measure_fitness(pop, target)\n",
    "            k_best = selection(pop, scores)\n",
    "            if fitness(k_best[0], target) == 0:\n",
    "                break\n",
    "            parents = k_best\n",
    "            for i in range(len(k_best)):\n",
    "                parents.append(k_best[i])\n",
    "            for i in range(len(k_best)):\n",
    "                parents.append(k_best[i])\n",
    "            pop = combinations(parents, n_pop, r_cross, r_mut)\n",
    "            if time.time() - start > 180_000: #dersom det tar lenger enn tre min, avbryt\n",
    "                finished = False\n",
    "                break\n",
    "        end = time.time()\n",
    "        if finished:\n",
    "            run_times.append(end - start)\n",
    "    avgs.append(sum(run_times) / len(run_times))\n",
    "\n",
    "plt.plot(range(min_bits, max_bits+1), avgs)\n",
    "plt.show()"
   ]
  }
 ],
 "metadata": {
  "kernelspec": {
   "display_name": "Python 3.9.13 ('ml')",
   "language": "python",
   "name": "python3"
  },
  "language_info": {
   "codemirror_mode": {
    "name": "ipython",
    "version": 3
   },
   "file_extension": ".py",
   "mimetype": "text/x-python",
   "name": "python",
   "nbconvert_exporter": "python",
   "pygments_lexer": "ipython3",
   "version": "3.9.13"
  },
  "orig_nbformat": 4,
  "vscode": {
   "interpreter": {
    "hash": "a3ee8d9d65e398d54e1e8f7048f68067222d6f29e0d2c0b4300f943ed608c36f"
   }
  }
 },
 "nbformat": 4,
 "nbformat_minor": 2
}
