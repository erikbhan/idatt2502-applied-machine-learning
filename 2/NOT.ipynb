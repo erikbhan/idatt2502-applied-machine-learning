{
 "cells": [
  {
   "cell_type": "markdown",
   "metadata": {},
   "source": [
    "# NOT-gate"
   ]
  },
  {
   "cell_type": "code",
   "execution_count": null,
   "metadata": {},
   "outputs": [],
   "source": [
    "import numpy as np\n",
    "import pandas as pd\n",
    "import torch\n",
    "import matplotlib.pyplot as plt"
   ]
  },
  {
   "cell_type": "code",
   "execution_count": 18,
   "metadata": {},
   "outputs": [],
   "source": [
    "#data\n",
    "x_train = torch.tensor([[1], [0], [1], [0]]).float()\n",
    "y_train = torch.tensor([[0], [1], [0], [1]]).float()"
   ]
  },
  {
   "cell_type": "code",
   "execution_count": 19,
   "metadata": {},
   "outputs": [],
   "source": [
    "#model\n",
    "class SigmoidModel:\n",
    "    def __init__(self):\n",
    "        # Model variables\n",
    "        self.W = torch.tensor([[0.0]], requires_grad=True)\n",
    "        self.b = torch.tensor([[0.0]], requires_grad=True)\n",
    "\n",
    "    def logits(self, x):\n",
    "        return x @ self.W + self.b\n",
    "\n",
    "    # Predictor\n",
    "    def f(self, x):\n",
    "        return torch.sigmoid(self.logits(x))\n",
    "\n",
    "    # Cross Entropy loss\n",
    "    def loss(self, x, y):\n",
    "        return torch.nn.functional.binary_cross_entropy_with_logits(self.logits(x), y)\n",
    "        # Similar to:\n",
    "        # return -torch.mean(y * torch.log(self.f(x)) +\n",
    "        # "
   ]
  },
  {
   "cell_type": "code",
   "execution_count": 20,
   "metadata": {},
   "outputs": [
    {
     "name": "stdout",
     "output_type": "stream",
     "text": [
      "W = tensor([[-0.0025]], requires_grad=True), b = tensor([[1.5610e-06]], requires_grad=True), loss = tensor(0.6925, grad_fn=<BinaryCrossEntropyWithLogitsBackward0>)\n"
     ]
    }
   ],
   "source": [
    "#optimizing\n",
    "model = SigmoidModel()\n",
    "optimizer = torch.optim.SGD([model.W, model.b], 0.0000001)\n",
    "\n",
    "for epoch in range(100_000):\n",
    "    model.loss(x_train, y_train).backward()\n",
    "    optimizer.step()\n",
    "    optimizer.zero_grad()\n",
    "\n",
    "# Print model variables and loss\n",
    "print(\"W = %s, b = %s, loss = %s\" % (model.W, model.b, model.loss(x_train, y_train)))"
   ]
  },
  {
   "cell_type": "code",
   "execution_count": 24,
   "metadata": {},
   "outputs": [
    {
     "name": "stdout",
     "output_type": "stream",
     "text": [
      "tensor([[0.4994]], grad_fn=<SigmoidBackward0>)\n",
      "tensor([[0.5000]], grad_fn=<SigmoidBackward0>)\n"
     ]
    },
    {
     "data": {
      "image/png": "[encoded data removed]",
      "text/plain": [
       "<Figure size 640x480 with 1 Axes>"
      ]
     },
     "metadata": {},
     "output_type": "display_data"
    }
   ],
   "source": [
    "print(model.f(torch.tensor([[1]]).float()))\n",
    "print(model.f(torch.tensor([[0]]).float()))\n",
    "\n",
    "#visualizing\n",
    "plt.plot(x_train, y_train, 'o', label='$(x^{(i)},y^{(i)})$')\n",
    "plt.xlabel('x')\n",
    "plt.ylabel('y')\n",
    "x = torch.tensor([[torch.min(x_train)], [torch.max(x_train)]])\n",
    "plt.plot(x, model.f(x).detach(), label='$\\\\hat y = f(x) = xW+b$')\n",
    "plt.legend()\n",
    "plt.show()"
   ]
  }
 ],
 "metadata": {
  "kernelspec": {
   "display_name": "Python 3.10.6 ('venv': venv)",
   "language": "python",
   "name": "python3"
  },
  "language_info": {
   "codemirror_mode": {
    "name": "ipython",
    "version": 3
   },
   "file_extension": ".py",
   "mimetype": "text/x-python",
   "name": "python",
   "nbconvert_exporter": "python",
   "pygments_lexer": "ipython3",
   "version": "3.10.6"
  },
  "orig_nbformat": 4,
  "vscode": {
   "interpreter": {
    "hash": "da13e0470b27defce97750d2df09fc989a2aaa884cb585cb7ba69b9f5db422f6"
   }
  }
 },
 "nbformat": 4,
 "nbformat_minor": 2
}
