{
 "cells": [
  {
   "cell_type": "markdown",
   "metadata": {},
   "source": [
    "# NOT-gate"
   ]
  },
  {
   "cell_type": "code",
   "execution_count": 6,
   "metadata": {},
   "outputs": [],
   "source": [
    "import numpy as np\n",
    "import torch\n",
    "import matplotlib.pyplot as plt"
   ]
  },
  {
   "cell_type": "code",
   "execution_count": 7,
   "metadata": {},
   "outputs": [],
   "source": [
    "#data\n",
    "x_train = torch.tensor([[1], [0], [1], [0]]).float()\n",
    "y_train = torch.tensor([[0], [1], [0], [1]]).float()"
   ]
  },
  {
   "cell_type": "code",
   "execution_count": 8,
   "metadata": {},
   "outputs": [],
   "source": [
    "#model\n",
    "class SigmoidModel:\n",
    "    def __init__(self):\n",
    "        # Model variables\n",
    "        self.W = torch.tensor([[10.0]], requires_grad=True)\n",
    "        self.b = torch.tensor([[-5.0]], requires_grad=True)\n",
    "\n",
    "    def logits(self, x):\n",
    "        return x @ self.W + self.b\n",
    "\n",
    "    # Predictor\n",
    "    def f(self, x):\n",
    "        return torch.sigmoid(self.logits(x))\n",
    "\n",
    "    # Cross Entropy loss\n",
    "    def loss(self, x, y):\n",
    "        return torch.nn.functional.binary_cross_entropy_with_logits(self.logits(x), y)\n",
    "        # Similar to:\n",
    "        # return -torch.mean(y * torch.log(self.f(x)) +\n",
    "        # "
   ]
  },
  {
   "cell_type": "code",
   "execution_count": 9,
   "metadata": {},
   "outputs": [
    {
     "name": "stdout",
     "output_type": "stream",
     "text": [
      "W = tensor([[-10.5246]], requires_grad=True), b = tensor([[5.0583]], requires_grad=True), loss = tensor(0.0053, grad_fn=<BinaryCrossEntropyWithLogitsBackward0>)\n"
     ]
    }
   ],
   "source": [
    "#optimizing\n",
    "model = SigmoidModel()\n",
    "optimizer = torch.optim.SGD([model.W, model.b], 0.01)\n",
    "\n",
    "for epoch in range(100_000):\n",
    "    model.loss(x_train, y_train).backward()\n",
    "    optimizer.step()\n",
    "    optimizer.zero_grad()\n",
    "\n",
    "# Print model variables and loss\n",
    "print(\"W = %s, b = %s, loss = %s\" % (model.W, model.b, model.loss(x_train, y_train)))"
   ]
  },
  {
   "cell_type": "code",
   "execution_count": 10,
   "metadata": {},
   "outputs": [
    {
     "data": {
      "image/png": "[encoded data removed]",
      "text/plain": [
       "<Figure size 432x288 with 1 Axes>"
      ]
     },
     "metadata": {
      "needs_background": "light"
     },
     "output_type": "display_data"
    }
   ],
   "source": [
    "#visualizing\n",
    "plt.plot(x_train, y_train, 'o', label='$(x^{(i)},y^{(i)})$')\n",
    "plt.xlabel('x')\n",
    "plt.ylabel('y')\n",
    "x = torch.tensor([[torch.min(x_train)], [torch.max(x_train)]])\n",
    "plt.plot(x, model.f(x).detach(), label='$\\\\hat y = f(x) = xW+b$')\n",
    "plt.legend()\n",
    "plt.show()"
   ]
  }
 ],
 "metadata": {
  "kernelspec": {
   "display_name": "Python 3.8.6 64-bit",
   "language": "python",
   "name": "python3"
  },
  "language_info": {
   "codemirror_mode": {
    "name": "ipython",
    "version": 3
   },
   "file_extension": ".py",
   "mimetype": "text/x-python",
   "name": "python",
   "nbconvert_exporter": "python",
   "pygments_lexer": "ipython3",
   "version": "3.8.6"
  },
  "orig_nbformat": 4,
  "vscode": {
   "interpreter": {
    "hash": "a9715bdddf635adf6aa3bfe7e4ab3630531fbffb10563b62cc5e0cd678d27ae8"
   }
  }
 },
 "nbformat": 4,
 "nbformat_minor": 2
}
