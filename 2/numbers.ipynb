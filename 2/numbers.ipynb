{
 "cells": [
  {
   "cell_type": "markdown",
   "metadata": {},
   "source": [
    "# Handwriting recognition\n",
    "\n",
    "Lag en modell med prediktoren f (x) = softmax(xW + b) som klassifiserer handskrevne tall. Se mnist for eksempel lasting av MNIST datasettet, og visning og lagring av en observasjon. Du skal oppnå en nøyaktighet på 0.9 eller over. Lag 10 .png bilder som viser W etter optimalisering.\n"
   ]
  },
  {
   "cell_type": "code",
   "execution_count": 50,
   "metadata": {},
   "outputs": [
    {
     "name": "stdout",
     "output_type": "stream",
     "text": [
      "tensor([0., 0., 0., 0., 0., 1., 0., 0., 0., 0.])\n"
     ]
    },
    {
     "data": {
      "image/png": "[encoded data removed]",
      "text/plain": [
       "<Figure size 432x288 with 1 Axes>"
      ]
     },
     "metadata": {
      "needs_background": "light"
     },
     "output_type": "display_data"
    }
   ],
   "source": [
    "import torch\n",
    "import torchvision\n",
    "import matplotlib.pyplot as plt\n",
    "\n",
    "# Load observations from the mnist dataset. The observations are divided into a training set and a test set\n",
    "mnist_train = torchvision.datasets.MNIST('./data', train=True, download=True)\n",
    "x_train = mnist_train.data.reshape(-1, 784).float()  # Reshape input\n",
    "y_train = torch.zeros((mnist_train.targets.shape[0], 10))  # Create output tensor\n",
    "y_train[torch.arange(mnist_train.targets.shape[0]), mnist_train.targets] = 1  # Populate output\n",
    "\n",
    "mnist_test = torchvision.datasets.MNIST('./data', train=False, download=True)\n",
    "x_test = mnist_test.data.reshape(-1, 784).float()  # Reshape input\n",
    "y_test = torch.zeros((mnist_test.targets.shape[0], 10))  # Create output tensor\n",
    "y_test[torch.arange(mnist_test.targets.shape[0]), mnist_test.targets] = 1  # Populate output\n",
    "\n",
    "# Show the input of the first observation in the training set\n",
    "plt.imshow(x_train[0, :].reshape(28, 28))\n",
    "\n",
    "# Print the classification of the first observation in the training set\n",
    "print(y_train[0, :])\n",
    "\n",
    "# Save the input of the first observation in the training set\n",
    "plt.imsave('x_train_1.png', x_train[0, :].reshape(28, 28))\n",
    "\n",
    "plt.show()\n"
   ]
  },
  {
   "cell_type": "code",
   "execution_count": 51,
   "metadata": {},
   "outputs": [],
   "source": [
    "# Model\n",
    "class SoftmaxModel:\n",
    "\n",
    "    def __init__(self):\n",
    "        # Model variables\n",
    "        w = torch.zeros([784, 10]).float() + 1.1\n",
    "        b = torch.zeros([1,10]).float() - 1.0\n",
    "        self.W = w.clone().detach().requires_grad_(True)\n",
    "        self.b = b.clone().detach().requires_grad_(True)\n",
    "\n",
    "    def logits(self, x):\n",
    "        return torch.Tensor(x) @ self.W + self.b\n",
    "\n",
    "    # Predictor\n",
    "    def f(self, x):\n",
    "        return torch.softmax(self.logits(x))\n",
    "\n",
    "    # Cross Entropy loss\n",
    "    def loss(self, x, y):\n",
    "        return torch.nn.functional.binary_cross_entropy_with_logits(self.logits(x), y)"
   ]
  },
  {
   "cell_type": "code",
   "execution_count": 52,
   "metadata": {},
   "outputs": [
    {
     "name": "stdout",
     "output_type": "stream",
     "text": [
      "W[0][0] = tensor(1.1000, grad_fn=<SelectBackward0>)\n",
      "b = tensor([[-1.0220, -1.0154, -1.0206, -1.0224, -1.0185, -1.0160, -1.0194, -1.0153,\n",
      "         -1.0345, -1.0233]], requires_grad=True)\n",
      "Loss = tensor(25.8346, grad_fn=<BinaryCrossEntropyWithLogitsBackward0>)\n"
     ]
    }
   ],
   "source": [
    "# Optimization\n",
    "model = SoftmaxModel()\n",
    "optimizer = torch.optim.SGD([model.W, model.b], 0.01)\n",
    "\n",
    "for epoch in range(1000):\n",
    "    model.loss(x_train, y_train).backward()\n",
    "    optimizer.step()\n",
    "    optimizer.zero_grad()\n",
    "\n",
    "print(\"W[0][0] = %s\" % model.W[0][0])\n",
    "print(\"b = %s\" % model.b)\n",
    "print(\"Loss = %s\" % model.loss(x_train, y_train))"
   ]
  }
 ],
 "metadata": {
  "kernelspec": {
   "display_name": "Python 3.8.6 64-bit",
   "language": "python",
   "name": "python3"
  },
  "language_info": {
   "codemirror_mode": {
    "name": "ipython",
    "version": 3
   },
   "file_extension": ".py",
   "mimetype": "text/x-python",
   "name": "python",
   "nbconvert_exporter": "python",
   "pygments_lexer": "ipython3",
   "version": "3.8.6"
  },
  "orig_nbformat": 4,
  "vscode": {
   "interpreter": {
    "hash": "a9715bdddf635adf6aa3bfe7e4ab3630531fbffb10563b62cc5e0cd678d27ae8"
   }
  }
 },
 "nbformat": 4,
 "nbformat_minor": 2
}
