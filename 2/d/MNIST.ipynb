{
 "cells": [
  {
   "cell_type": "markdown",
   "metadata": {},
   "source": [
    "# Handwriting recognition"
   ]
  },
  {
   "cell_type": "code",
   "execution_count": 2,
   "metadata": {},
   "outputs": [],
   "source": [
    "import matplotlib.pyplot as plt\n",
    "import torchvision\n",
    "import torch"
   ]
  },
  {
   "cell_type": "code",
   "execution_count": 3,
   "metadata": {},
   "outputs": [],
   "source": [
    "# Load observations from the mnist dataset. The observations are divided into a training set and a test set\n",
    "mnist_train = torchvision.datasets.MNIST('../data', train=True, download=True)\n",
    "x_train = mnist_train.data.reshape(-1, 784).float()  # Reshape input\n",
    "y_train = torch.zeros((mnist_train.targets.shape[0], 10))  # Create output tensor\n",
    "y_train[torch.arange(mnist_train.targets.shape[0]), mnist_train.targets] = 1  # Populate output\n",
    "\n",
    "mnist_test = torchvision.datasets.MNIST('../data', train=False, download=True)\n",
    "x_test = mnist_test.data.reshape(-1, 784).float()  # Reshape input\n",
    "y_test = torch.zeros((mnist_test.targets.shape[0], 10))  # Create output tensor\n",
    "y_test[torch.arange(mnist_test.targets.shape[0]), mnist_test.targets] = 1  # Populate output"
   ]
  },
  {
   "cell_type": "code",
   "execution_count": 4,
   "metadata": {},
   "outputs": [],
   "source": [
    "class SoftmaxModel:\n",
    "    def __init__(self):\n",
    "        w = torch.zeros([784, 10]).float()\n",
    "        b = torch.zeros([1,10]).float()\n",
    "        self.W = w.clone().detach().requires_grad_(True)\n",
    "        self.b = b.clone().detach().requires_grad_(True)\n",
    "\n",
    "    def logits(self, x):\n",
    "        return torch.Tensor(x) @ self.W + self.b\n",
    "\n",
    "    def f(self, x):\n",
    "        return torch.softmax(self.logits(x))\n",
    "\n",
    "    def loss(self, x, y):\n",
    "        return torch.nn.functional.binary_cross_entropy_with_logits(self.logits(x), y)"
   ]
  },
  {
   "cell_type": "code",
   "execution_count": 1,
   "metadata": {},
   "outputs": [
    {
     "ename": "NameError",
     "evalue": "name 'SoftmaxModel' is not defined",
     "output_type": "error",
     "traceback": [
      "\u001b[0;31m---------------------------------------------------------------------------\u001b[0m",
      "\u001b[0;31mNameError\u001b[0m                                 Traceback (most recent call last)",
      "\u001b[1;32m/home/erik/dev/ml/2/d/MNIST.ipynb Cell 5\u001b[0m in \u001b[0;36m<cell line: 1>\u001b[0;34m()\u001b[0m\n\u001b[0;32m----> <a href='vscode-notebook-cell:/home/erik/dev/ml/2/d/MNIST.ipynb#W4sZmlsZQ%3D%3D?line=0'>1</a>\u001b[0m model \u001b[39m=\u001b[39m SoftmaxModel()\n\u001b[1;32m      <a href='vscode-notebook-cell:/home/erik/dev/ml/2/d/MNIST.ipynb#W4sZmlsZQ%3D%3D?line=1'>2</a>\u001b[0m optimizer \u001b[39m=\u001b[39m torch\u001b[39m.\u001b[39moptim\u001b[39m.\u001b[39mSGD([model\u001b[39m.\u001b[39mW, model\u001b[39m.\u001b[39mb], \u001b[39m0.1\u001b[39m)\n\u001b[1;32m      <a href='vscode-notebook-cell:/home/erik/dev/ml/2/d/MNIST.ipynb#W4sZmlsZQ%3D%3D?line=3'>4</a>\u001b[0m \u001b[39mfor\u001b[39;00m epoch \u001b[39min\u001b[39;00m \u001b[39mrange\u001b[39m(\u001b[39m100\u001b[39m):\n",
      "\u001b[0;31mNameError\u001b[0m: name 'SoftmaxModel' is not defined"
     ]
    }
   ],
   "source": [
    "model = SoftmaxModel()\n",
    "optimizer = torch.optim.SGD([model.W, model.b], 0.1)\n",
    "\n",
    "for epoch in range(100):\n",
    "    if epoch % 10 == 0:\n",
    "        print(str(epoch) + \"%\", end = ' ')\n",
    "    model.loss(x_train, y_train).backward()\n",
    "    optimizer.step()\n",
    "    optimizer.zero_grad()\n",
    "\n",
    "print(\"\\n\")\n",
    "print(\"Loss = %s\" % model.loss(x_train, y_train))"
   ]
  },
  {
   "cell_type": "code",
   "execution_count": 22,
   "metadata": {},
   "outputs": [
    {
     "data": {
      "image/png": "[encoded data removed]",
      "text/plain": [
       "<Figure size 640x480 with 1 Axes>"
      ]
     },
     "metadata": {},
     "output_type": "display_data"
    }
   ],
   "source": [
    "# Show the input of the first observation in the training set\n",
    "for i in range(0, 10):\n",
    "    plt.imshow(model.W[:, i].detach().numpy().reshape(28, 28))\n",
    "    plt.imsave(\"../out/W\" + str(i) + \".png\", model.W[:, i].detach().numpy().reshape(28, 28))\n",
    "\n",
    "plt.show()"
   ]
  },
  {
   "cell_type": "code",
   "execution_count": 23,
   "metadata": {},
   "outputs": [
    {
     "name": "stdout",
     "output_type": "stream",
     "text": [
      "Accuracy: 0.8404\n"
     ]
    }
   ],
   "source": [
    "# Evaluate and store the accuracy on the test set.\n",
    "num_correct_test = 0\n",
    "for x, y in zip(x_test, y_test):\n",
    "    # y_pred = torch.argmax(x @ model.W)\n",
    "    y_pred = torch.argmax(model.logits(x))\n",
    "    if y_pred == torch.argmax(y):\n",
    "        num_correct_test += 1\n",
    "\n",
    "print(\"Accuracy: \" + str(float(num_correct_test)/len(y_test)))"
   ]
  }
 ],
 "metadata": {
  "kernelspec": {
   "display_name": "Python 3.10.6 ('venv': venv)",
   "language": "python",
   "name": "python3"
  },
  "language_info": {
   "codemirror_mode": {
    "name": "ipython",
    "version": 3
   },
   "file_extension": ".py",
   "mimetype": "text/x-python",
   "name": "python",
   "nbconvert_exporter": "python",
   "pygments_lexer": "ipython3",
   "version": "3.10.6"
  },
  "orig_nbformat": 4,
  "vscode": {
   "interpreter": {
    "hash": "da13e0470b27defce97750d2df09fc989a2aaa884cb585cb7ba69b9f5db422f6"
   }
  }
 },
 "nbformat": 4,
 "nbformat_minor": 2
}
